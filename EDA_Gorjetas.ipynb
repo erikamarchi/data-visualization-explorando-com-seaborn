{
  "nbformat": 4,
  "nbformat_minor": 0,
  "metadata": {
    "colab": {
      "name": "EDA-Gorjetas.ipynb",
      "provenance": [],
      "authorship_tag": "ABX9TyNDbGAi/qMiB6VQ2F4r4+Tm",
      "include_colab_link": true
    },
    "kernelspec": {
      "name": "python3",
      "display_name": "Python 3"
    },
    "language_info": {
      "name": "python"
    }
  },
  "cells": [
    {
      "cell_type": "markdown",
      "metadata": {
        "id": "view-in-github",
        "colab_type": "text"
      },
      "source": [
        "<a href=\"https://colab.research.google.com/github/erikamarchi/data-visualization-explorando-com-seaborn/blob/main/EDA_Gorjetas.ipynb\" target=\"_parent\"><img src=\"https://colab.research.google.com/assets/colab-badge.svg\" alt=\"Open In Colab\"/></a>"
      ]
    },
    {
      "cell_type": "markdown",
      "metadata": {
        "id": "uyWuFlJMNX-T"
      },
      "source": [
        "#dataset"
      ]
    },
    {
      "cell_type": "code",
      "metadata": {
        "id": "9pmPZOUbMMMN"
      },
      "source": [
        "import pandas as pd"
      ],
      "execution_count": 3,
      "outputs": []
    },
    {
      "cell_type": "code",
      "metadata": {
        "id": "bg0zjGE_NXQt"
      },
      "source": [
        "dados = pd.read_csv('tips.csv')"
      ],
      "execution_count": 11,
      "outputs": []
    },
    {
      "cell_type": "code",
      "metadata": {
        "colab": {
          "base_uri": "https://localhost:8080/",
          "height": 204
        },
        "id": "HsdGH-OnNgsH",
        "outputId": "77bcf8c9-86ea-4d5d-88b3-63e84244d1eb"
      },
      "source": [
        "dados.head()"
      ],
      "execution_count": 6,
      "outputs": [
        {
          "output_type": "execute_result",
          "data": {
            "text/html": [
              "<div>\n",
              "<style scoped>\n",
              "    .dataframe tbody tr th:only-of-type {\n",
              "        vertical-align: middle;\n",
              "    }\n",
              "\n",
              "    .dataframe tbody tr th {\n",
              "        vertical-align: top;\n",
              "    }\n",
              "\n",
              "    .dataframe thead th {\n",
              "        text-align: right;\n",
              "    }\n",
              "</style>\n",
              "<table border=\"1\" class=\"dataframe\">\n",
              "  <thead>\n",
              "    <tr style=\"text-align: right;\">\n",
              "      <th></th>\n",
              "      <th>total_bill</th>\n",
              "      <th>tip</th>\n",
              "      <th>dessert</th>\n",
              "      <th>day</th>\n",
              "      <th>time</th>\n",
              "      <th>size</th>\n",
              "    </tr>\n",
              "  </thead>\n",
              "  <tbody>\n",
              "    <tr>\n",
              "      <th>0</th>\n",
              "      <td>16.99</td>\n",
              "      <td>1.01</td>\n",
              "      <td>No</td>\n",
              "      <td>Sun</td>\n",
              "      <td>Dinner</td>\n",
              "      <td>2</td>\n",
              "    </tr>\n",
              "    <tr>\n",
              "      <th>1</th>\n",
              "      <td>10.34</td>\n",
              "      <td>1.66</td>\n",
              "      <td>No</td>\n",
              "      <td>Sun</td>\n",
              "      <td>Dinner</td>\n",
              "      <td>3</td>\n",
              "    </tr>\n",
              "    <tr>\n",
              "      <th>2</th>\n",
              "      <td>21.01</td>\n",
              "      <td>3.50</td>\n",
              "      <td>No</td>\n",
              "      <td>Sun</td>\n",
              "      <td>Dinner</td>\n",
              "      <td>3</td>\n",
              "    </tr>\n",
              "    <tr>\n",
              "      <th>3</th>\n",
              "      <td>23.68</td>\n",
              "      <td>3.31</td>\n",
              "      <td>No</td>\n",
              "      <td>Sun</td>\n",
              "      <td>Dinner</td>\n",
              "      <td>2</td>\n",
              "    </tr>\n",
              "    <tr>\n",
              "      <th>4</th>\n",
              "      <td>24.59</td>\n",
              "      <td>3.61</td>\n",
              "      <td>No</td>\n",
              "      <td>Sun</td>\n",
              "      <td>Dinner</td>\n",
              "      <td>4</td>\n",
              "    </tr>\n",
              "  </tbody>\n",
              "</table>\n",
              "</div>"
            ],
            "text/plain": [
              "   total_bill   tip dessert  day    time  size\n",
              "0       16.99  1.01      No  Sun  Dinner     2\n",
              "1       10.34  1.66      No  Sun  Dinner     3\n",
              "2       21.01  3.50      No  Sun  Dinner     3\n",
              "3       23.68  3.31      No  Sun  Dinner     2\n",
              "4       24.59  3.61      No  Sun  Dinner     4"
            ]
          },
          "metadata": {},
          "execution_count": 6
        }
      ]
    },
    {
      "cell_type": "code",
      "metadata": {
        "colab": {
          "base_uri": "https://localhost:8080/",
          "height": 204
        },
        "id": "G9_ZUXQqOQjQ",
        "outputId": "f9e4e79d-10ca-4ddd-da1c-7aa769ba30e1"
      },
      "source": [
        "gorjetas = dados.rename(columns={'total_bill':'valor_da_conta',\n",
        "              'tip':'gorjeta',\n",
        "              'dessert':'sobremesa',\n",
        "              'day':'dia_da_semana',\n",
        "              'time':'hora_do_dia',\n",
        "              'size':'total_de_pessoas'})\n",
        "gorjetas.head()"
      ],
      "execution_count": 13,
      "outputs": [
        {
          "output_type": "execute_result",
          "data": {
            "text/html": [
              "<div>\n",
              "<style scoped>\n",
              "    .dataframe tbody tr th:only-of-type {\n",
              "        vertical-align: middle;\n",
              "    }\n",
              "\n",
              "    .dataframe tbody tr th {\n",
              "        vertical-align: top;\n",
              "    }\n",
              "\n",
              "    .dataframe thead th {\n",
              "        text-align: right;\n",
              "    }\n",
              "</style>\n",
              "<table border=\"1\" class=\"dataframe\">\n",
              "  <thead>\n",
              "    <tr style=\"text-align: right;\">\n",
              "      <th></th>\n",
              "      <th>valor_da_conta</th>\n",
              "      <th>gorjeta</th>\n",
              "      <th>sobremesa</th>\n",
              "      <th>dia_da_semana</th>\n",
              "      <th>hora_do_dia</th>\n",
              "      <th>total_de_pessoas</th>\n",
              "    </tr>\n",
              "  </thead>\n",
              "  <tbody>\n",
              "    <tr>\n",
              "      <th>0</th>\n",
              "      <td>16.99</td>\n",
              "      <td>1.01</td>\n",
              "      <td>No</td>\n",
              "      <td>Sun</td>\n",
              "      <td>Dinner</td>\n",
              "      <td>2</td>\n",
              "    </tr>\n",
              "    <tr>\n",
              "      <th>1</th>\n",
              "      <td>10.34</td>\n",
              "      <td>1.66</td>\n",
              "      <td>No</td>\n",
              "      <td>Sun</td>\n",
              "      <td>Dinner</td>\n",
              "      <td>3</td>\n",
              "    </tr>\n",
              "    <tr>\n",
              "      <th>2</th>\n",
              "      <td>21.01</td>\n",
              "      <td>3.50</td>\n",
              "      <td>No</td>\n",
              "      <td>Sun</td>\n",
              "      <td>Dinner</td>\n",
              "      <td>3</td>\n",
              "    </tr>\n",
              "    <tr>\n",
              "      <th>3</th>\n",
              "      <td>23.68</td>\n",
              "      <td>3.31</td>\n",
              "      <td>No</td>\n",
              "      <td>Sun</td>\n",
              "      <td>Dinner</td>\n",
              "      <td>2</td>\n",
              "    </tr>\n",
              "    <tr>\n",
              "      <th>4</th>\n",
              "      <td>24.59</td>\n",
              "      <td>3.61</td>\n",
              "      <td>No</td>\n",
              "      <td>Sun</td>\n",
              "      <td>Dinner</td>\n",
              "      <td>4</td>\n",
              "    </tr>\n",
              "  </tbody>\n",
              "</table>\n",
              "</div>"
            ],
            "text/plain": [
              "   valor_da_conta  gorjeta  ... hora_do_dia total_de_pessoas\n",
              "0           16.99     1.01  ...      Dinner                2\n",
              "1           10.34     1.66  ...      Dinner                3\n",
              "2           21.01     3.50  ...      Dinner                3\n",
              "3           23.68     3.31  ...      Dinner                2\n",
              "4           24.59     3.61  ...      Dinner                4\n",
              "\n",
              "[5 rows x 6 columns]"
            ]
          },
          "metadata": {},
          "execution_count": 13
        }
      ]
    },
    {
      "cell_type": "code",
      "metadata": {
        "colab": {
          "base_uri": "https://localhost:8080/"
        },
        "id": "u-bAFAyVO05f",
        "outputId": "be348ac5-cc8e-4e84-c053-715471b4442c"
      },
      "source": [
        "gorjetas.sobremesa.unique()"
      ],
      "execution_count": 14,
      "outputs": [
        {
          "output_type": "execute_result",
          "data": {
            "text/plain": [
              "array(['No', 'Yes'], dtype=object)"
            ]
          },
          "metadata": {},
          "execution_count": 14
        }
      ]
    },
    {
      "cell_type": "code",
      "metadata": {
        "colab": {
          "base_uri": "https://localhost:8080/",
          "height": 204
        },
        "id": "IoUPSAPgPMDB",
        "outputId": "25b89e7e-a573-4bbe-b683-5fc460d34301"
      },
      "source": [
        "gorjetas.sobremesa.replace({'Yes':'Sim',\n",
        "                            'No':'Não'}, inplace=True)\n",
        "gorjetas.head()"
      ],
      "execution_count": 15,
      "outputs": [
        {
          "output_type": "execute_result",
          "data": {
            "text/html": [
              "<div>\n",
              "<style scoped>\n",
              "    .dataframe tbody tr th:only-of-type {\n",
              "        vertical-align: middle;\n",
              "    }\n",
              "\n",
              "    .dataframe tbody tr th {\n",
              "        vertical-align: top;\n",
              "    }\n",
              "\n",
              "    .dataframe thead th {\n",
              "        text-align: right;\n",
              "    }\n",
              "</style>\n",
              "<table border=\"1\" class=\"dataframe\">\n",
              "  <thead>\n",
              "    <tr style=\"text-align: right;\">\n",
              "      <th></th>\n",
              "      <th>valor_da_conta</th>\n",
              "      <th>gorjeta</th>\n",
              "      <th>sobremesa</th>\n",
              "      <th>dia_da_semana</th>\n",
              "      <th>hora_do_dia</th>\n",
              "      <th>total_de_pessoas</th>\n",
              "    </tr>\n",
              "  </thead>\n",
              "  <tbody>\n",
              "    <tr>\n",
              "      <th>0</th>\n",
              "      <td>16.99</td>\n",
              "      <td>1.01</td>\n",
              "      <td>Não</td>\n",
              "      <td>Sun</td>\n",
              "      <td>Dinner</td>\n",
              "      <td>2</td>\n",
              "    </tr>\n",
              "    <tr>\n",
              "      <th>1</th>\n",
              "      <td>10.34</td>\n",
              "      <td>1.66</td>\n",
              "      <td>Não</td>\n",
              "      <td>Sun</td>\n",
              "      <td>Dinner</td>\n",
              "      <td>3</td>\n",
              "    </tr>\n",
              "    <tr>\n",
              "      <th>2</th>\n",
              "      <td>21.01</td>\n",
              "      <td>3.50</td>\n",
              "      <td>Não</td>\n",
              "      <td>Sun</td>\n",
              "      <td>Dinner</td>\n",
              "      <td>3</td>\n",
              "    </tr>\n",
              "    <tr>\n",
              "      <th>3</th>\n",
              "      <td>23.68</td>\n",
              "      <td>3.31</td>\n",
              "      <td>Não</td>\n",
              "      <td>Sun</td>\n",
              "      <td>Dinner</td>\n",
              "      <td>2</td>\n",
              "    </tr>\n",
              "    <tr>\n",
              "      <th>4</th>\n",
              "      <td>24.59</td>\n",
              "      <td>3.61</td>\n",
              "      <td>Não</td>\n",
              "      <td>Sun</td>\n",
              "      <td>Dinner</td>\n",
              "      <td>4</td>\n",
              "    </tr>\n",
              "  </tbody>\n",
              "</table>\n",
              "</div>"
            ],
            "text/plain": [
              "   valor_da_conta  gorjeta  ... hora_do_dia total_de_pessoas\n",
              "0           16.99     1.01  ...      Dinner                2\n",
              "1           10.34     1.66  ...      Dinner                3\n",
              "2           21.01     3.50  ...      Dinner                3\n",
              "3           23.68     3.31  ...      Dinner                2\n",
              "4           24.59     3.61  ...      Dinner                4\n",
              "\n",
              "[5 rows x 6 columns]"
            ]
          },
          "metadata": {},
          "execution_count": 15
        }
      ]
    },
    {
      "cell_type": "code",
      "metadata": {
        "colab": {
          "base_uri": "https://localhost:8080/"
        },
        "id": "YV9dI2C3PY7Q",
        "outputId": "7e5beaa2-bd2b-46db-bebf-490f0825ff4d"
      },
      "source": [
        "gorjetas.dia_da_semana.unique()"
      ],
      "execution_count": 17,
      "outputs": [
        {
          "output_type": "execute_result",
          "data": {
            "text/plain": [
              "array(['Sun', 'Sat', 'Thur', 'Fri'], dtype=object)"
            ]
          },
          "metadata": {},
          "execution_count": 17
        }
      ]
    },
    {
      "cell_type": "code",
      "metadata": {
        "colab": {
          "base_uri": "https://localhost:8080/"
        },
        "id": "zwGpqocYPg4o",
        "outputId": "bb89407e-d212-4426-9155-94085147d6ff"
      },
      "source": [
        "gorjetas.dia_da_semana.replace({'Sun':'Domingo',\n",
        "                                'Sat':'Sábado',\n",
        "                                'Thur':'Quinta',\n",
        "                                'Fri':'Sexta'}, inplace=True)\n",
        "gorjetas.dia_da_semana.unique()"
      ],
      "execution_count": 19,
      "outputs": [
        {
          "output_type": "execute_result",
          "data": {
            "text/plain": [
              "array(['Domingo', 'Sábado', 'Quinta', 'Sexta'], dtype=object)"
            ]
          },
          "metadata": {},
          "execution_count": 19
        }
      ]
    },
    {
      "cell_type": "code",
      "metadata": {
        "colab": {
          "base_uri": "https://localhost:8080/"
        },
        "id": "WdvE1ygaPw9w",
        "outputId": "6a35f91f-e063-441b-caa2-c2dde534e823"
      },
      "source": [
        "gorjetas.hora_do_dia.unique()"
      ],
      "execution_count": 20,
      "outputs": [
        {
          "output_type": "execute_result",
          "data": {
            "text/plain": [
              "array(['Dinner', 'Lunch'], dtype=object)"
            ]
          },
          "metadata": {},
          "execution_count": 20
        }
      ]
    },
    {
      "cell_type": "code",
      "metadata": {
        "colab": {
          "base_uri": "https://localhost:8080/"
        },
        "id": "I6_8FKfUP8dc",
        "outputId": "5a04327c-405a-4b15-900d-751299d49476"
      },
      "source": [
        "gorjetas.hora_do_dia.replace({'Dinner':'Jantar',\n",
        "                                'Lunch':'Almoço'}, inplace=True)\n",
        "gorjetas.hora_do_dia.unique()"
      ],
      "execution_count": 21,
      "outputs": [
        {
          "output_type": "execute_result",
          "data": {
            "text/plain": [
              "array(['Jantar', 'Almoço'], dtype=object)"
            ]
          },
          "metadata": {},
          "execution_count": 21
        }
      ]
    },
    {
      "cell_type": "code",
      "metadata": {
        "colab": {
          "base_uri": "https://localhost:8080/",
          "height": 204
        },
        "id": "bQxvu3naQE4A",
        "outputId": "06306060-aa1c-4fdc-8ad7-43f139e5afe7"
      },
      "source": [
        "gorjetas.head()"
      ],
      "execution_count": 22,
      "outputs": [
        {
          "output_type": "execute_result",
          "data": {
            "text/html": [
              "<div>\n",
              "<style scoped>\n",
              "    .dataframe tbody tr th:only-of-type {\n",
              "        vertical-align: middle;\n",
              "    }\n",
              "\n",
              "    .dataframe tbody tr th {\n",
              "        vertical-align: top;\n",
              "    }\n",
              "\n",
              "    .dataframe thead th {\n",
              "        text-align: right;\n",
              "    }\n",
              "</style>\n",
              "<table border=\"1\" class=\"dataframe\">\n",
              "  <thead>\n",
              "    <tr style=\"text-align: right;\">\n",
              "      <th></th>\n",
              "      <th>valor_da_conta</th>\n",
              "      <th>gorjeta</th>\n",
              "      <th>sobremesa</th>\n",
              "      <th>dia_da_semana</th>\n",
              "      <th>hora_do_dia</th>\n",
              "      <th>total_de_pessoas</th>\n",
              "    </tr>\n",
              "  </thead>\n",
              "  <tbody>\n",
              "    <tr>\n",
              "      <th>0</th>\n",
              "      <td>16.99</td>\n",
              "      <td>1.01</td>\n",
              "      <td>Não</td>\n",
              "      <td>Domingo</td>\n",
              "      <td>Jantar</td>\n",
              "      <td>2</td>\n",
              "    </tr>\n",
              "    <tr>\n",
              "      <th>1</th>\n",
              "      <td>10.34</td>\n",
              "      <td>1.66</td>\n",
              "      <td>Não</td>\n",
              "      <td>Domingo</td>\n",
              "      <td>Jantar</td>\n",
              "      <td>3</td>\n",
              "    </tr>\n",
              "    <tr>\n",
              "      <th>2</th>\n",
              "      <td>21.01</td>\n",
              "      <td>3.50</td>\n",
              "      <td>Não</td>\n",
              "      <td>Domingo</td>\n",
              "      <td>Jantar</td>\n",
              "      <td>3</td>\n",
              "    </tr>\n",
              "    <tr>\n",
              "      <th>3</th>\n",
              "      <td>23.68</td>\n",
              "      <td>3.31</td>\n",
              "      <td>Não</td>\n",
              "      <td>Domingo</td>\n",
              "      <td>Jantar</td>\n",
              "      <td>2</td>\n",
              "    </tr>\n",
              "    <tr>\n",
              "      <th>4</th>\n",
              "      <td>24.59</td>\n",
              "      <td>3.61</td>\n",
              "      <td>Não</td>\n",
              "      <td>Domingo</td>\n",
              "      <td>Jantar</td>\n",
              "      <td>4</td>\n",
              "    </tr>\n",
              "  </tbody>\n",
              "</table>\n",
              "</div>"
            ],
            "text/plain": [
              "   valor_da_conta  gorjeta  ... hora_do_dia total_de_pessoas\n",
              "0           16.99     1.01  ...      Jantar                2\n",
              "1           10.34     1.66  ...      Jantar                3\n",
              "2           21.01     3.50  ...      Jantar                3\n",
              "3           23.68     3.31  ...      Jantar                2\n",
              "4           24.59     3.61  ...      Jantar                4\n",
              "\n",
              "[5 rows x 6 columns]"
            ]
          },
          "metadata": {},
          "execution_count": 22
        }
      ]
    },
    {
      "cell_type": "markdown",
      "metadata": {
        "id": "yWwl2ftTSLJI"
      },
      "source": [
        "#import do seaborn"
      ]
    },
    {
      "cell_type": "code",
      "metadata": {
        "id": "IS0GI2B8Rogj"
      },
      "source": [
        "import seaborn as sns"
      ],
      "execution_count": 23,
      "outputs": []
    },
    {
      "cell_type": "markdown",
      "metadata": {
        "id": "P1yin_BzSJJp"
      },
      "source": [
        "#Valor da conta e gorjeta"
      ]
    },
    {
      "cell_type": "code",
      "metadata": {
        "colab": {
          "base_uri": "https://localhost:8080/",
          "height": 280
        },
        "id": "eB4fq2LkRq5D",
        "outputId": "36e39e2f-efae-4593-842d-ed9f5e9a10e2"
      },
      "source": [
        "sns.scatterplot(x='valor_da_conta',\n",
        "                y='gorjeta',\n",
        "                data = gorjetas);"
      ],
      "execution_count": 25,
      "outputs": [
        {
          "output_type": "display_data",
          "data": {
            "image/png": "[encoded data removed]",
            "text/plain": [
              "<Figure size 432x288 with 1 Axes>"
            ]
          },
          "metadata": {
            "needs_background": "light"
          }
        }
      ]
    },
    {
      "cell_type": "markdown",
      "metadata": {
        "id": "6oKJtC2bSihK"
      },
      "source": [
        "**Visualmente o valor da gorjeta aumenta conforme aumenta o valor da conta**"
      ]
    },
    {
      "cell_type": "code",
      "metadata": {
        "colab": {
          "base_uri": "https://localhost:8080/"
        },
        "id": "LpeY-Zv1SZ3y",
        "outputId": "ddbcd80f-ab94-4ad5-a297-d62c25ecbba0"
      },
      "source": [
        "gorjetas.shape"
      ],
      "execution_count": 26,
      "outputs": [
        {
          "output_type": "execute_result",
          "data": {
            "text/plain": [
              "(244, 6)"
            ]
          },
          "metadata": {},
          "execution_count": 26
        }
      ]
    },
    {
      "cell_type": "code",
      "metadata": {
        "colab": {
          "base_uri": "https://localhost:8080/"
        },
        "id": "F1ZgXbOxSzNP",
        "outputId": "3bd1e63f-4913-4b4d-f95f-cc0d8252ffba"
      },
      "source": [
        "print(f'A base de dados contém {gorjetas.shape[0]} registros. \\n')\n",
        "print(f'Registros não nulos')\n",
        "gorjetas.count()"
      ],
      "execution_count": 28,
      "outputs": [
        {
          "output_type": "stream",
          "name": "stdout",
          "text": [
            "A base de dados contém 244 registros. \n",
            "\n",
            "Registros não nulos\n"
          ]
        },
        {
          "output_type": "execute_result",
          "data": {
            "text/plain": [
              "valor_da_conta      244\n",
              "gorjeta             244\n",
              "sobremesa           244\n",
              "dia_da_semana       244\n",
              "hora_do_dia         244\n",
              "total_de_pessoas    244\n",
              "dtype: int64"
            ]
          },
          "metadata": {},
          "execution_count": 28
        }
      ]
    }
  ]
}